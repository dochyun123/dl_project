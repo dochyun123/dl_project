{
 "cells": [
  {
   "cell_type": "code",
   "execution_count": 12,
   "metadata": {},
   "outputs": [],
   "source": [
    "import pandas as pd"
   ]
  },
  {
   "cell_type": "code",
   "execution_count": 15,
   "metadata": {},
   "outputs": [],
   "source": [
    "df_221Q_label = pd.read_excel('22_1Q.XLSX')\n",
    "df_231Q_label = pd.read_excel('23_1Q.XLSX')"
   ]
  },
  {
   "cell_type": "code",
   "execution_count": 16,
   "metadata": {},
   "outputs": [
    {
     "data": {
      "text/plain": [
       "2530"
      ]
     },
     "execution_count": 16,
     "metadata": {},
     "output_type": "execute_result"
    }
   ],
   "source": [
    "df_221Q_label['종목명'].nunique()\n",
    "df_231Q_label['종목명'].nunique()"
   ]
  },
  {
   "cell_type": "code",
   "execution_count": null,
   "metadata": {},
   "outputs": [],
   "source": []
  },
  {
   "cell_type": "code",
   "execution_count": 43,
   "metadata": {},
   "outputs": [],
   "source": [
    "grouped_1 = df_221Q_label.groupby(['종목코드','종목명'])[['최저가(종가)', '최고가(종가)']].agg(['min', 'max']).reset_index()\n",
    "grouped_2 = df_231Q_label.groupby(['종목코드','종목명'])[['최저가(종가)', '최고가(종가)']].agg(['min', 'max']).reset_index()"
   ]
  },
  {
   "cell_type": "code",
   "execution_count": 44,
   "metadata": {},
   "outputs": [
    {
     "data": {
      "text/html": [
       "<div>\n",
       "<style scoped>\n",
       "    .dataframe tbody tr th:only-of-type {\n",
       "        vertical-align: middle;\n",
       "    }\n",
       "\n",
       "    .dataframe tbody tr th {\n",
       "        vertical-align: top;\n",
       "    }\n",
       "\n",
       "    .dataframe thead tr th {\n",
       "        text-align: left;\n",
       "    }\n",
       "</style>\n",
       "<table border=\"1\" class=\"dataframe\">\n",
       "  <thead>\n",
       "    <tr>\n",
       "      <th></th>\n",
       "      <th>종목코드</th>\n",
       "      <th>종목명</th>\n",
       "      <th colspan=\"2\" halign=\"left\">최저가(종가)</th>\n",
       "      <th colspan=\"2\" halign=\"left\">최고가(종가)</th>\n",
       "    </tr>\n",
       "    <tr>\n",
       "      <th></th>\n",
       "      <th></th>\n",
       "      <th></th>\n",
       "      <th>min</th>\n",
       "      <th>max</th>\n",
       "      <th>min</th>\n",
       "      <th>max</th>\n",
       "    </tr>\n",
       "  </thead>\n",
       "  <tbody>\n",
       "    <tr>\n",
       "      <th>0</th>\n",
       "      <td>100030</td>\n",
       "      <td>인지소프트</td>\n",
       "      <td>19840</td>\n",
       "      <td>21000</td>\n",
       "      <td>22150</td>\n",
       "      <td>23650</td>\n",
       "    </tr>\n",
       "    <tr>\n",
       "      <th>1</th>\n",
       "      <td>100090</td>\n",
       "      <td>SK오션플랜트</td>\n",
       "      <td>19010</td>\n",
       "      <td>19590</td>\n",
       "      <td>20100</td>\n",
       "      <td>21800</td>\n",
       "    </tr>\n",
       "    <tr>\n",
       "      <th>2</th>\n",
       "      <td>100120</td>\n",
       "      <td>뷰웍스</td>\n",
       "      <td>30100</td>\n",
       "      <td>32700</td>\n",
       "      <td>34750</td>\n",
       "      <td>37000</td>\n",
       "    </tr>\n",
       "    <tr>\n",
       "      <th>3</th>\n",
       "      <td>100130</td>\n",
       "      <td>동국S&amp;C</td>\n",
       "      <td>4030</td>\n",
       "      <td>4400</td>\n",
       "      <td>4465</td>\n",
       "      <td>5130</td>\n",
       "    </tr>\n",
       "    <tr>\n",
       "      <th>4</th>\n",
       "      <td>100220</td>\n",
       "      <td>비상교육</td>\n",
       "      <td>5190</td>\n",
       "      <td>5590</td>\n",
       "      <td>5620</td>\n",
       "      <td>6820</td>\n",
       "    </tr>\n",
       "    <tr>\n",
       "      <th>...</th>\n",
       "      <td>...</td>\n",
       "      <td>...</td>\n",
       "      <td>...</td>\n",
       "      <td>...</td>\n",
       "      <td>...</td>\n",
       "      <td>...</td>\n",
       "    </tr>\n",
       "    <tr>\n",
       "      <th>2525</th>\n",
       "      <td>37550K</td>\n",
       "      <td>DL이앤씨우</td>\n",
       "      <td>19910</td>\n",
       "      <td>20550</td>\n",
       "      <td>20600</td>\n",
       "      <td>21450</td>\n",
       "    </tr>\n",
       "    <tr>\n",
       "      <th>2526</th>\n",
       "      <td>37550L</td>\n",
       "      <td>DL이앤씨2우(전환)</td>\n",
       "      <td>22700</td>\n",
       "      <td>25100</td>\n",
       "      <td>25000</td>\n",
       "      <td>26450</td>\n",
       "    </tr>\n",
       "    <tr>\n",
       "      <th>2527</th>\n",
       "      <td>38380K</td>\n",
       "      <td>LX홀딩스1우</td>\n",
       "      <td>10180</td>\n",
       "      <td>10510</td>\n",
       "      <td>10560</td>\n",
       "      <td>14150</td>\n",
       "    </tr>\n",
       "    <tr>\n",
       "      <th>2528</th>\n",
       "      <td>45014K</td>\n",
       "      <td>코오롱모빌리티그룹우</td>\n",
       "      <td>8850</td>\n",
       "      <td>9960</td>\n",
       "      <td>10470</td>\n",
       "      <td>13580</td>\n",
       "    </tr>\n",
       "    <tr>\n",
       "      <th>2529</th>\n",
       "      <td>45226K</td>\n",
       "      <td>한화갤러리아우</td>\n",
       "      <td>6100</td>\n",
       "      <td>11060</td>\n",
       "      <td>8120</td>\n",
       "      <td>17300</td>\n",
       "    </tr>\n",
       "  </tbody>\n",
       "</table>\n",
       "<p>2530 rows × 6 columns</p>\n",
       "</div>"
      ],
      "text/plain": [
       "        종목코드          종목명 최저가(종가)        최고가(종가)       \n",
       "                              min    max     min    max\n",
       "0     100030        인지소프트   19840  21000   22150  23650\n",
       "1     100090      SK오션플랜트   19010  19590   20100  21800\n",
       "2     100120          뷰웍스   30100  32700   34750  37000\n",
       "3     100130        동국S&C    4030   4400    4465   5130\n",
       "4     100220         비상교육    5190   5590    5620   6820\n",
       "...      ...          ...     ...    ...     ...    ...\n",
       "2525  37550K       DL이앤씨우   19910  20550   20600  21450\n",
       "2526  37550L  DL이앤씨2우(전환)   22700  25100   25000  26450\n",
       "2527  38380K      LX홀딩스1우   10180  10510   10560  14150\n",
       "2528  45014K   코오롱모빌리티그룹우    8850   9960   10470  13580\n",
       "2529  45226K      한화갤러리아우    6100  11060    8120  17300\n",
       "\n",
       "[2530 rows x 6 columns]"
      ]
     },
     "execution_count": 44,
     "metadata": {},
     "output_type": "execute_result"
    }
   ],
   "source": [
    "grouped_2"
   ]
  },
  {
   "cell_type": "code",
   "execution_count": 45,
   "metadata": {},
   "outputs": [],
   "source": [
    "agg_functions = {'최저가(종가)': 'min', '최고가(종가)': 'max'}\n",
    "grouped_1 = df_221Q_label.groupby(['종목명', '종목코드']).agg(agg_functions).reset_index()\n",
    "grouped_2 = df_231Q_label.groupby(['종목명', '종목코드']).agg(agg_functions).reset_index()\n",
    "\n",
    "# Rename columns for clarity\n",
    "grouped_1.columns = ['종목명', '종목코드', '최저가', '최고가']\n",
    "grouped_2.columns = ['종목명', '종목코드', '최저가', '최고가']\n",
    "\n",
    "# Print the result\n",
    "grouped_1['등락률'] = grouped_1['최고가']-grouped_1['최고가']\n",
    "grouped_2['등락률'] = grouped_2['최고가']-grouped_2['최고가']"
   ]
  },
  {
   "cell_type": "code",
   "execution_count": 54,
   "metadata": {},
   "outputs": [],
   "source": [
    "grouped_1['등락률'] = (grouped_1['최고가'] - grouped_1['최저가']) / grouped_1['최저가']\n",
    "grouped_2['등락률'] = (grouped_2['최고가'] - grouped_2['최저가']) / grouped_2['최저가']"
   ]
  },
  {
   "cell_type": "code",
   "execution_count": 55,
   "metadata": {},
   "outputs": [
    {
     "data": {
      "text/plain": [
       "1050"
      ]
     },
     "execution_count": 55,
     "metadata": {},
     "output_type": "execute_result"
    }
   ],
   "source": [
    "sum(grouped_2['등락률']>0.3)"
   ]
  },
  {
   "cell_type": "code",
   "execution_count": 56,
   "metadata": {},
   "outputs": [],
   "source": [
    "label_1 = grouped_1[['종목명','종목코드','등락률']]\n",
    "label_2 = grouped_2[['종목명','종목코드','등락률']]"
   ]
  },
  {
   "cell_type": "code",
   "execution_count": 58,
   "metadata": {},
   "outputs": [
    {
     "data": {
      "text/html": [
       "<div>\n",
       "<style scoped>\n",
       "    .dataframe tbody tr th:only-of-type {\n",
       "        vertical-align: middle;\n",
       "    }\n",
       "\n",
       "    .dataframe tbody tr th {\n",
       "        vertical-align: top;\n",
       "    }\n",
       "\n",
       "    .dataframe thead th {\n",
       "        text-align: right;\n",
       "    }\n",
       "</style>\n",
       "<table border=\"1\" class=\"dataframe\">\n",
       "  <thead>\n",
       "    <tr style=\"text-align: right;\">\n",
       "      <th></th>\n",
       "      <th>종목명</th>\n",
       "      <th>종목코드</th>\n",
       "      <th>등락률</th>\n",
       "    </tr>\n",
       "  </thead>\n",
       "  <tbody>\n",
       "    <tr>\n",
       "      <th>0</th>\n",
       "      <td>3S</td>\n",
       "      <td>060310</td>\n",
       "      <td>0.471292</td>\n",
       "    </tr>\n",
       "    <tr>\n",
       "      <th>1</th>\n",
       "      <td>AJ네트웍스</td>\n",
       "      <td>095570</td>\n",
       "      <td>0.171563</td>\n",
       "    </tr>\n",
       "    <tr>\n",
       "      <th>2</th>\n",
       "      <td>AK홀딩스</td>\n",
       "      <td>006840</td>\n",
       "      <td>0.171617</td>\n",
       "    </tr>\n",
       "    <tr>\n",
       "      <th>3</th>\n",
       "      <td>APS</td>\n",
       "      <td>054620</td>\n",
       "      <td>0.685876</td>\n",
       "    </tr>\n",
       "    <tr>\n",
       "      <th>4</th>\n",
       "      <td>AP시스템</td>\n",
       "      <td>265520</td>\n",
       "      <td>0.173549</td>\n",
       "    </tr>\n",
       "    <tr>\n",
       "      <th>...</th>\n",
       "      <td>...</td>\n",
       "      <td>...</td>\n",
       "      <td>...</td>\n",
       "    </tr>\n",
       "    <tr>\n",
       "      <th>2525</th>\n",
       "      <td>흥국화재</td>\n",
       "      <td>000540</td>\n",
       "      <td>0.172920</td>\n",
       "    </tr>\n",
       "    <tr>\n",
       "      <th>2526</th>\n",
       "      <td>흥국화재우</td>\n",
       "      <td>000545</td>\n",
       "      <td>0.133945</td>\n",
       "    </tr>\n",
       "    <tr>\n",
       "      <th>2527</th>\n",
       "      <td>흥아해운</td>\n",
       "      <td>003280</td>\n",
       "      <td>0.627106</td>\n",
       "    </tr>\n",
       "    <tr>\n",
       "      <th>2528</th>\n",
       "      <td>희림</td>\n",
       "      <td>037440</td>\n",
       "      <td>0.171429</td>\n",
       "    </tr>\n",
       "    <tr>\n",
       "      <th>2529</th>\n",
       "      <td>힘스</td>\n",
       "      <td>238490</td>\n",
       "      <td>0.392157</td>\n",
       "    </tr>\n",
       "  </tbody>\n",
       "</table>\n",
       "<p>2530 rows × 3 columns</p>\n",
       "</div>"
      ],
      "text/plain": [
       "         종목명    종목코드       등락률\n",
       "0         3S  060310  0.471292\n",
       "1     AJ네트웍스  095570  0.171563\n",
       "2      AK홀딩스  006840  0.171617\n",
       "3        APS  054620  0.685876\n",
       "4      AP시스템  265520  0.173549\n",
       "...      ...     ...       ...\n",
       "2525    흥국화재  000540  0.172920\n",
       "2526   흥국화재우  000545  0.133945\n",
       "2527    흥아해운  003280  0.627106\n",
       "2528      희림  037440  0.171429\n",
       "2529      힘스  238490  0.392157\n",
       "\n",
       "[2530 rows x 3 columns]"
      ]
     },
     "execution_count": 58,
     "metadata": {},
     "output_type": "execute_result"
    }
   ],
   "source": [
    "label_2"
   ]
  },
  {
   "cell_type": "code",
   "execution_count": 59,
   "metadata": {},
   "outputs": [],
   "source": [
    "data = pd.read_csv('C:/Users/dochy/Desktop/고려대/딥러닝/project/.vscode/data.csv')"
   ]
  },
  {
   "cell_type": "code",
   "execution_count": 60,
   "metadata": {},
   "outputs": [
    {
     "data": {
      "text/html": [
       "<div>\n",
       "<style scoped>\n",
       "    .dataframe tbody tr th:only-of-type {\n",
       "        vertical-align: middle;\n",
       "    }\n",
       "\n",
       "    .dataframe tbody tr th {\n",
       "        vertical-align: top;\n",
       "    }\n",
       "\n",
       "    .dataframe thead th {\n",
       "        text-align: right;\n",
       "    }\n",
       "</style>\n",
       "<table border=\"1\" class=\"dataframe\">\n",
       "  <thead>\n",
       "    <tr style=\"text-align: right;\">\n",
       "      <th></th>\n",
       "      <th>회사명</th>\n",
       "      <th>당기_유동자산</th>\n",
       "      <th>당기_비유동자산</th>\n",
       "      <th>당기_자본</th>\n",
       "      <th>당기_유동부채</th>\n",
       "      <th>당기_비유동부채</th>\n",
       "      <th>당기_부채 및 자본총계</th>\n",
       "      <th>당기_부채총계</th>\n",
       "      <th>당기_자산총계</th>\n",
       "      <th>유동비율</th>\n",
       "      <th>자기자본비율</th>\n",
       "      <th>종목코드</th>\n",
       "    </tr>\n",
       "  </thead>\n",
       "  <tbody>\n",
       "    <tr>\n",
       "      <th>0</th>\n",
       "      <td>3S</td>\n",
       "      <td>2.476527e+10</td>\n",
       "      <td>4.119151e+10</td>\n",
       "      <td>4.588854e+10</td>\n",
       "      <td>1.764336e+10</td>\n",
       "      <td>2.424885e+09</td>\n",
       "      <td>6.595678e+10</td>\n",
       "      <td>2.006824e+10</td>\n",
       "      <td>6.595678e+10</td>\n",
       "      <td>1.403660</td>\n",
       "      <td>0.695737</td>\n",
       "      <td>[060310]</td>\n",
       "    </tr>\n",
       "    <tr>\n",
       "      <th>1</th>\n",
       "      <td>AJ네트웍스</td>\n",
       "      <td>2.037299e+11</td>\n",
       "      <td>1.186349e+12</td>\n",
       "      <td>3.887301e+11</td>\n",
       "      <td>7.333065e+11</td>\n",
       "      <td>2.680423e+11</td>\n",
       "      <td>1.390079e+12</td>\n",
       "      <td>1.001349e+12</td>\n",
       "      <td>1.390079e+12</td>\n",
       "      <td>0.277824</td>\n",
       "      <td>0.279646</td>\n",
       "      <td>[095570]</td>\n",
       "    </tr>\n",
       "    <tr>\n",
       "      <th>2</th>\n",
       "      <td>AK홀딩스</td>\n",
       "      <td>7.548319e+10</td>\n",
       "      <td>8.567521e+11</td>\n",
       "      <td>5.510517e+11</td>\n",
       "      <td>3.811627e+11</td>\n",
       "      <td>2.081565e+07</td>\n",
       "      <td>9.322353e+11</td>\n",
       "      <td>3.811836e+11</td>\n",
       "      <td>9.322353e+11</td>\n",
       "      <td>0.198034</td>\n",
       "      <td>0.591108</td>\n",
       "      <td>[006840]</td>\n",
       "    </tr>\n",
       "    <tr>\n",
       "      <th>3</th>\n",
       "      <td>APS</td>\n",
       "      <td>5.087194e+10</td>\n",
       "      <td>2.245058e+11</td>\n",
       "      <td>1.818026e+11</td>\n",
       "      <td>7.086811e+10</td>\n",
       "      <td>2.270707e+10</td>\n",
       "      <td>2.753778e+11</td>\n",
       "      <td>9.357518e+10</td>\n",
       "      <td>2.753778e+11</td>\n",
       "      <td>0.717840</td>\n",
       "      <td>0.660193</td>\n",
       "      <td>[054620]</td>\n",
       "    </tr>\n",
       "    <tr>\n",
       "      <th>4</th>\n",
       "      <td>AP시스템</td>\n",
       "      <td>3.922670e+11</td>\n",
       "      <td>1.513681e+11</td>\n",
       "      <td>2.765309e+11</td>\n",
       "      <td>2.120491e+11</td>\n",
       "      <td>5.505503e+10</td>\n",
       "      <td>5.436351e+11</td>\n",
       "      <td>2.671041e+11</td>\n",
       "      <td>5.436351e+11</td>\n",
       "      <td>1.849887</td>\n",
       "      <td>0.508670</td>\n",
       "      <td>[265520]</td>\n",
       "    </tr>\n",
       "    <tr>\n",
       "      <th>...</th>\n",
       "      <td>...</td>\n",
       "      <td>...</td>\n",
       "      <td>...</td>\n",
       "      <td>...</td>\n",
       "      <td>...</td>\n",
       "      <td>...</td>\n",
       "      <td>...</td>\n",
       "      <td>...</td>\n",
       "      <td>...</td>\n",
       "      <td>...</td>\n",
       "      <td>...</td>\n",
       "      <td>...</td>\n",
       "    </tr>\n",
       "    <tr>\n",
       "      <th>2266</th>\n",
       "      <td>흥국</td>\n",
       "      <td>5.743732e+10</td>\n",
       "      <td>4.065163e+10</td>\n",
       "      <td>7.946346e+10</td>\n",
       "      <td>1.528045e+10</td>\n",
       "      <td>3.345051e+09</td>\n",
       "      <td>9.808896e+10</td>\n",
       "      <td>1.862550e+10</td>\n",
       "      <td>9.808896e+10</td>\n",
       "      <td>3.758877</td>\n",
       "      <td>0.810116</td>\n",
       "      <td>[010240]</td>\n",
       "    </tr>\n",
       "    <tr>\n",
       "      <th>2267</th>\n",
       "      <td>흥국에프엔비</td>\n",
       "      <td>4.154375e+10</td>\n",
       "      <td>1.470849e+11</td>\n",
       "      <td>8.681026e+10</td>\n",
       "      <td>3.112410e+10</td>\n",
       "      <td>7.069427e+10</td>\n",
       "      <td>1.886286e+11</td>\n",
       "      <td>1.018184e+11</td>\n",
       "      <td>1.886286e+11</td>\n",
       "      <td>1.334777</td>\n",
       "      <td>0.460218</td>\n",
       "      <td>[189980]</td>\n",
       "    </tr>\n",
       "    <tr>\n",
       "      <th>2268</th>\n",
       "      <td>흥아해운</td>\n",
       "      <td>8.189277e+10</td>\n",
       "      <td>2.196050e+11</td>\n",
       "      <td>1.373912e+11</td>\n",
       "      <td>4.865131e+10</td>\n",
       "      <td>1.154552e+11</td>\n",
       "      <td>3.014978e+11</td>\n",
       "      <td>1.641065e+11</td>\n",
       "      <td>3.014978e+11</td>\n",
       "      <td>1.683259</td>\n",
       "      <td>0.455696</td>\n",
       "      <td>[003280]</td>\n",
       "    </tr>\n",
       "    <tr>\n",
       "      <th>2269</th>\n",
       "      <td>희림</td>\n",
       "      <td>1.436306e+11</td>\n",
       "      <td>4.889646e+10</td>\n",
       "      <td>6.566610e+10</td>\n",
       "      <td>1.081137e+11</td>\n",
       "      <td>1.874723e+10</td>\n",
       "      <td>1.925270e+11</td>\n",
       "      <td>1.268609e+11</td>\n",
       "      <td>1.925270e+11</td>\n",
       "      <td>1.328514</td>\n",
       "      <td>0.341075</td>\n",
       "      <td>[037440]</td>\n",
       "    </tr>\n",
       "    <tr>\n",
       "      <th>2270</th>\n",
       "      <td>힘스</td>\n",
       "      <td>2.999778e+10</td>\n",
       "      <td>5.024690e+10</td>\n",
       "      <td>5.940935e+10</td>\n",
       "      <td>1.891705e+10</td>\n",
       "      <td>1.918279e+09</td>\n",
       "      <td>8.024468e+10</td>\n",
       "      <td>2.083533e+10</td>\n",
       "      <td>8.024468e+10</td>\n",
       "      <td>1.585753</td>\n",
       "      <td>0.740353</td>\n",
       "      <td>[238490]</td>\n",
       "    </tr>\n",
       "  </tbody>\n",
       "</table>\n",
       "<p>2271 rows × 12 columns</p>\n",
       "</div>"
      ],
      "text/plain": [
       "         회사명       당기_유동자산      당기_비유동자산         당기_자본       당기_유동부채  \\\n",
       "0         3S  2.476527e+10  4.119151e+10  4.588854e+10  1.764336e+10   \n",
       "1     AJ네트웍스  2.037299e+11  1.186349e+12  3.887301e+11  7.333065e+11   \n",
       "2      AK홀딩스  7.548319e+10  8.567521e+11  5.510517e+11  3.811627e+11   \n",
       "3        APS  5.087194e+10  2.245058e+11  1.818026e+11  7.086811e+10   \n",
       "4      AP시스템  3.922670e+11  1.513681e+11  2.765309e+11  2.120491e+11   \n",
       "...      ...           ...           ...           ...           ...   \n",
       "2266      흥국  5.743732e+10  4.065163e+10  7.946346e+10  1.528045e+10   \n",
       "2267  흥국에프엔비  4.154375e+10  1.470849e+11  8.681026e+10  3.112410e+10   \n",
       "2268    흥아해운  8.189277e+10  2.196050e+11  1.373912e+11  4.865131e+10   \n",
       "2269      희림  1.436306e+11  4.889646e+10  6.566610e+10  1.081137e+11   \n",
       "2270      힘스  2.999778e+10  5.024690e+10  5.940935e+10  1.891705e+10   \n",
       "\n",
       "          당기_비유동부채  당기_부채 및 자본총계       당기_부채총계       당기_자산총계      유동비율  \\\n",
       "0     2.424885e+09  6.595678e+10  2.006824e+10  6.595678e+10  1.403660   \n",
       "1     2.680423e+11  1.390079e+12  1.001349e+12  1.390079e+12  0.277824   \n",
       "2     2.081565e+07  9.322353e+11  3.811836e+11  9.322353e+11  0.198034   \n",
       "3     2.270707e+10  2.753778e+11  9.357518e+10  2.753778e+11  0.717840   \n",
       "4     5.505503e+10  5.436351e+11  2.671041e+11  5.436351e+11  1.849887   \n",
       "...            ...           ...           ...           ...       ...   \n",
       "2266  3.345051e+09  9.808896e+10  1.862550e+10  9.808896e+10  3.758877   \n",
       "2267  7.069427e+10  1.886286e+11  1.018184e+11  1.886286e+11  1.334777   \n",
       "2268  1.154552e+11  3.014978e+11  1.641065e+11  3.014978e+11  1.683259   \n",
       "2269  1.874723e+10  1.925270e+11  1.268609e+11  1.925270e+11  1.328514   \n",
       "2270  1.918279e+09  8.024468e+10  2.083533e+10  8.024468e+10  1.585753   \n",
       "\n",
       "        자기자본비율      종목코드  \n",
       "0     0.695737  [060310]  \n",
       "1     0.279646  [095570]  \n",
       "2     0.591108  [006840]  \n",
       "3     0.660193  [054620]  \n",
       "4     0.508670  [265520]  \n",
       "...        ...       ...  \n",
       "2266  0.810116  [010240]  \n",
       "2267  0.460218  [189980]  \n",
       "2268  0.455696  [003280]  \n",
       "2269  0.341075  [037440]  \n",
       "2270  0.740353  [238490]  \n",
       "\n",
       "[2271 rows x 12 columns]"
      ]
     },
     "execution_count": 60,
     "metadata": {},
     "output_type": "execute_result"
    }
   ],
   "source": [
    "data"
   ]
  },
  {
   "cell_type": "code",
   "execution_count": 61,
   "metadata": {},
   "outputs": [],
   "source": [
    "data['종목코드'] = data['종목코드'].str.replace('[', '').str.replace(']', '')"
   ]
  },
  {
   "cell_type": "code",
   "execution_count": 62,
   "metadata": {},
   "outputs": [],
   "source": [
    "BS_2023_1Q = pd.merge(data,label_2, on='종목코드', how='inner')"
   ]
  },
  {
   "cell_type": "code",
   "execution_count": 63,
   "metadata": {},
   "outputs": [],
   "source": [
    "del BS_2023_1Q['종목명']"
   ]
  },
  {
   "cell_type": "code",
   "execution_count": 64,
   "metadata": {},
   "outputs": [],
   "source": [
    "del BS_2023_1Q['종목코드']"
   ]
  },
  {
   "cell_type": "code",
   "execution_count": 69,
   "metadata": {},
   "outputs": [],
   "source": [
    "BS_2023_1Q['class'] = BS_2023_1Q['등락률'].apply(lambda x: 1 if x >= 0.3 else (0 if x < 0.3 else 3))"
   ]
  },
  {
   "cell_type": "code",
   "execution_count": 70,
   "metadata": {},
   "outputs": [],
   "source": [
    "BS_2023_1Q.to_csv('BS_2023_1Q.csv', index=False)"
   ]
  },
  {
   "cell_type": "code",
   "execution_count": 72,
   "metadata": {},
   "outputs": [
    {
     "data": {
      "text/plain": [
       "0"
      ]
     },
     "execution_count": 72,
     "metadata": {},
     "output_type": "execute_result"
    }
   ],
   "source": [
    "sum(BS_2023_1Q['class']==3)"
   ]
  },
  {
   "cell_type": "code",
   "execution_count": 73,
   "metadata": {},
   "outputs": [],
   "source": [
    "import pandas as pd\n",
    "from sklearn.model_selection import train_test_split\n",
    "from sklearn.preprocessing import StandardScaler\n",
    "from sklearn.linear_model import LogisticRegression\n",
    "from sklearn.metrics import accuracy_score"
   ]
  },
  {
   "cell_type": "code",
   "execution_count": 3,
   "metadata": {},
   "outputs": [],
   "source": [
    "BS_2022_1Q = pd.read_csv('BS_2022_1Q.csv')"
   ]
  },
  {
   "cell_type": "code",
   "execution_count": 74,
   "metadata": {},
   "outputs": [],
   "source": [
    "test = BS_2023_1Q.drop(['회사명', '등락률', '유동비율'], axis=1)\n",
    "test.dropna(inplace=True)\n",
    "X = test.drop('class', axis=1)\n",
    "y = test['class']\n",
    "X_train, X_test, y_train, y_test = train_test_split(X, y, test_size=0.2, random_state=42)\n",
    "scaler = StandardScaler()\n",
    "X_train = scaler.fit_transform(X_train)\n",
    "X_test = scaler.transform(X_test)"
   ]
  },
  {
   "cell_type": "code",
   "execution_count": 75,
   "metadata": {},
   "outputs": [
    {
     "name": "stdout",
     "output_type": "stream",
     "text": [
      "Accuracy: 0.62\n"
     ]
    }
   ],
   "source": [
    "model = LogisticRegression()\n",
    "model.fit(X_train, y_train)\n",
    "\n",
    "# Make predictions on the test set\n",
    "y_pred = model.predict(X_test)\n",
    "\n",
    "# Evaluate the model's accuracy\n",
    "accuracy = accuracy_score(y_test, y_pred)\n",
    "print(f'Accuracy: {accuracy:.2f}')"
   ]
  },
  {
   "cell_type": "code",
   "execution_count": 76,
   "metadata": {},
   "outputs": [],
   "source": [
    "import torch \n",
    "import torch.nn as nn\n",
    "import torch.optim as optim"
   ]
  },
  {
   "cell_type": "code",
   "execution_count": 77,
   "metadata": {},
   "outputs": [],
   "source": [
    "X = test.drop('class', axis=1).values\n",
    "y = test['class'].values\n",
    "X_train, X_test, y_train, y_test = train_test_split(X, y, test_size=0.2, random_state=42)\n",
    "scaler = StandardScaler()\n",
    "X_train = scaler.fit_transform(X_train)\n",
    "X_test = scaler.transform(X_test)\n",
    "X_train = torch.tensor(X_train, dtype=torch.float32)\n",
    "X_test = torch.tensor(X_test, dtype=torch.float32)\n",
    "y_train = torch.tensor(y_train, dtype=torch.float32)\n",
    "y_test = torch.tensor(y_test, dtype=torch.float32)"
   ]
  },
  {
   "cell_type": "code",
   "execution_count": 78,
   "metadata": {},
   "outputs": [],
   "source": [
    "class DNNModel(nn.Module):\n",
    "    def __init__(self):\n",
    "        super(DNNModel, self).__init__()\n",
    "        self.fc1 = nn.Linear(9, 64)  # Adjust input size to 3\n",
    "        self.fc2 = nn.Linear(64, 32)\n",
    "        self.fc3 = nn.Linear(32, 1)\n",
    "        self.sigmoid = nn.Sigmoid()\n",
    "\n",
    "    def forward(self, x):\n",
    "        x = torch.relu(self.fc1(x))\n",
    "        x = torch.relu(self.fc2(x))\n",
    "        x = self.sigmoid(self.fc3(x))\n",
    "        return x"
   ]
  },
  {
   "cell_type": "code",
   "execution_count": 80,
   "metadata": {},
   "outputs": [
    {
     "name": "stdout",
     "output_type": "stream",
     "text": [
      "Accuracy: 0.57\n"
     ]
    }
   ],
   "source": [
    "# Create the DNN model\n",
    "model = DNNModel()\n",
    "\n",
    "#Define the loss function and optimizer\n",
    "criterion = nn.BCELoss()  # Binary Cross-Entropy Loss\n",
    "optimizer = optim.Adam(model.parameters(), lr=0.001)\n",
    "\n",
    "# Train the model\n",
    "epochs = 2000\n",
    "for epoch in range(epochs):\n",
    "    optimizer.zero_grad()\n",
    "    outputs = model(X_train)\n",
    "    loss = criterion(outputs, y_train.view(-1, 1))\n",
    "    loss.backward()\n",
    "    optimizer.step()\n",
    "\n",
    "# Evaluate the model on the test set\n",
    "with torch.no_grad():\n",
    "    y_pred = model(X_test)\n",
    "    y_pred = (y_pred >= 0.5).float()  # Convert probabilities to binary predictions\n",
    "\n",
    "    accuracy = accuracy_score(y_test.numpy(), y_pred.numpy())\n",
    "    print(f'Accuracy: {accuracy:.2f}')"
   ]
  },
  {
   "cell_type": "code",
   "execution_count": null,
   "metadata": {},
   "outputs": [],
   "source": []
  }
 ],
 "metadata": {
  "kernelspec": {
   "display_name": "dl",
   "language": "python",
   "name": "python3"
  },
  "language_info": {
   "codemirror_mode": {
    "name": "ipython",
    "version": 3
   },
   "file_extension": ".py",
   "mimetype": "text/x-python",
   "name": "python",
   "nbconvert_exporter": "python",
   "pygments_lexer": "ipython3",
   "version": "3.8.18"
  }
 },
 "nbformat": 4,
 "nbformat_minor": 2
}
